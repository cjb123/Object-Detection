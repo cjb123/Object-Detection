{
 "cells": [
  {
   "cell_type": "markdown",
   "metadata": {},
   "source": [
    "<h3> Object Detection </h3>"
   ]
  },
  {
   "cell_type": "markdown",
   "metadata": {},
   "source": [
    "<b>1. Using an Image Classifier(pretrained) to detect objects using keras and openCV </b>\n",
    "\n",
    "Here we take a Convolutional Neural Network trained for image classification (pre-trained RESNET-50) and utilize `image pyramids`, `sliding windows`, and `non-maxima suppression` to build a basic object detector.Basically we combine traditional computer vision object detection algorithms with deep learning.\n"
   ]
  },
  {
   "cell_type": "markdown",
   "metadata": {},
   "source": [
    "<b> In Image Classification :</b> Input : Image --> Output : Class Label  <br>We present the input image to our neural network, and we obtain a single class label and a probability associated with the class label prediction.This class label characterizes the contents ( the most dominant and  visible contents) of the image.<br>\n",
    "\n",
    "<b> Object Detection :</b> Along with outputting the class labels i.e the objects present in the image, it also outputs where in the image the objects are with multiple bounding box coordinates.<br>\n",
    "\n",
    "More specifically, it outputs 3 values,including : <br>\n",
    "1. A list of bounding boxes, or the (x, y)-coordinates for each object in an image\n",
    "2. The class label associated with each of the bounding boxes\n",
    "3. The probability/confidence score associated with each bounding box and class label\n",
    "\n"
   ]
  },
  {
   "cell_type": "markdown",
   "metadata": {},
   "source": [
    "<b> 1.1 Importing necessary modules"
   ]
  },
  {
   "cell_type": "code",
   "execution_count": 14,
   "metadata": {},
   "outputs": [],
   "source": [
    "from tensorflow.keras.applications import ResNet50\n",
    "from tensorflow.keras.applications.resnet import preprocess_input\n",
    "from tensorflow.keras.preprocessing.image import img_to_array\n",
    "from tensorflow.keras.applications import imagenet_utils\n",
    "from imutils.object_detection import non_max_suppression\n",
    "import numpy as np\n",
    "import argparse\n",
    "import imutils\n",
    "import time\n",
    "import cv2\n",
    "import os\n",
    "import imutils\n",
    "\n",
    "import random\n",
    "import time\n",
    "import cv2\n",
    "\n",
    "import matplotlib.pyplot as plt"
   ]
  },
  {
   "cell_type": "markdown",
   "metadata": {},
   "source": [
    "<b> 1.2 How deep learning image classifier can be converted into an object detector? </b>"
   ]
  },
  {
   "cell_type": "markdown",
   "metadata": {},
   "source": [
    "We utilise the elements of traditional computer vision algorithms to convert our CNN image classifier into an object detector.<br>\n",
    "\n",
    "<b>1.2.1</b> The first element we use is <b>`Image Pyramids`</b>: <br>\n",
    "\n",
    "* An “image pyramid” is a multi-scale representation of an image:\n"
   ]
  },
  {
   "cell_type": "markdown",
   "metadata": {},
   "source": [
    "<img src=\"Image_pyramid.png\" style =\"height: 40%;width: 40%;\"/>"
   ]
  },
  {
   "cell_type": "markdown",
   "metadata": {},
   "source": [
    "At the bottom of the pyramid, we have the original sized image .\n",
    "At each subsequent layer, the image is resized and optionally smoothed.\n",
    "The image is progressively subsampled until some stopping criterion is met( when a minimum size has been reached), and no further subsampling is required."
   ]
  },
  {
   "cell_type": "markdown",
   "metadata": {},
   "source": [
    "\n",
    "<b>1.2.2</b>The second element we use is <b>`Sliding Windows`</b>: <br>\n",
    "\n",
    "* A sliding window is a fixed-size rectangle that slides from left-to-right and top-to-bottom within an image:\n",
    "\n"
   ]
  },
  {
   "cell_type": "markdown",
   "metadata": {},
   "source": [
    "<img src=\"sliding_window.gif\" style =\"height: 40%;width: 40%;\">"
   ]
  },
  {
   "cell_type": "markdown",
   "metadata": {},
   "source": [
    "At each stop of the window we would:\n",
    "1. Extract the Image within the sliding window\n",
    "2. Input Image to an Image Classifier\n",
    "3. obtain predictions(class label and probability scores)\n",
    "\n",
    "<div style =\"color:green\">Image pyramids and sliding windows helps us localize objects at different locations and multiple scales of the input image"
   ]
  },
  {
   "cell_type": "markdown",
   "metadata": {},
   "source": [
    "<b>1.2.3</b> The Third element we use is <b>`Non-Maxima Suppression`</b>: <br>\n",
    "\n",
    "The object detectors generally outputs multiple, overlapping bounding boxes surrounding an object in an image.<br>\n",
    "This happens because as the sliding window approaches an image, the classifier outputs larger and larger probabilities of  the object class(i.e higher probability of object being detected) .<br>\n",
    "\n",
    "Since there’s only one object of a particular class,multiple bounding boxes can create a problem.<br>\n",
    "The solution is to apply non-maxima suppression (NMS), which removes weak, overlapping bounding boxes by giving us the ones with higher confidence."
   ]
  },
  {
   "cell_type": "markdown",
   "metadata": {},
   "source": [
    "<img src=\"nms.jpg\" style =\"height: 50%;width: 50%;\">"
   ]
  },
  {
   "cell_type": "markdown",
   "metadata": {},
   "source": [
    "Below are the utility functions for implementing Image Pyramids and Sliding Windows and some other functions"
   ]
  },
  {
   "cell_type": "code",
   "execution_count": 2,
   "metadata": {},
   "outputs": [],
   "source": [
    "def image_pyramid(image, scale=1.5, minSize=(224, 224)):\n",
    "    # yield the original image\n",
    "    yield image\n",
    "    # keep looping over the image pyramid\n",
    "    while True:\n",
    "        w = int(image.shape[1] / scale)\n",
    "        image = imutils.resize(image, width=w)\n",
    "        if image.shape[0] < minSize[1] or image.shape[1] < minSize[0]:\n",
    "              break\n",
    "        yield image\n",
    "        \n",
    "def sliding_window(image, step, ws):\n",
    "      for y in range(0, image.shape[0] - ws[1], step):\n",
    "            for x in range(0, image.shape[1] - ws[0], step):\n",
    "                 yield (x, y, image[y:y + ws[1], x:x + ws[0]])\n",
    "                    \n",
    "def load_images(folder):\n",
    "    images = []\n",
    "    for filename in os.listdir(folder):\n",
    "        img = cv2.imread(os.path.join(folder, filename))\n",
    "        if img is not None:\n",
    "            images.append(img)\n",
    "    return images"
   ]
  },
  {
   "cell_type": "markdown",
   "metadata": {},
   "source": [
    "<b> 1.3 The steps we follow in the object detection algorithm:</b>\n",
    "\n",
    "1. We input image.\n",
    "2. We construct image pyramid fot the input image.\n",
    "3. For each scale of the image pyramid, we run a sliding window:\n",
    "     3.1. For each stop of the sliding window,we extract the image inside the sliding window(ROI)\n",
    "     3.2. We take the sampled image and pass it through our CNN originally trained for image classification\n",
    "     3.3. Examine the probability of the top class label of the CNN, and if meets a minimum confidence,we record \n",
    "            3.3.1. class label and\n",
    "            3.3.2  location of the sliding window\n",
    "4. We apply non-maxima suppression to the bounding boxes for different classes.\n",
    "5. We return the results of the detected objects(bounding box, class label and probability)"
   ]
  },
  {
   "cell_type": "markdown",
   "metadata": {},
   "source": [
    "<b>1.3.1</b> First we define some constants needed by our object detection algorithm."
   ]
  },
  {
   "cell_type": "code",
   "execution_count": 25,
   "metadata": {},
   "outputs": [],
   "source": [
    "width = 600\n",
    "scale = 1.5\n",
    "step = 8\n",
    "roi_size = (224, 147)\n",
    "INPUT_SIZE = (224, 224)\n",
    "threshold_prob = 0.90"
   ]
  },
  {
   "cell_type": "markdown",
   "metadata": {},
   "source": [
    "<b>1.3.2 </b> We load our ResNet classification CNN and input images from local directory"
   ]
  },
  {
   "cell_type": "code",
   "execution_count": 6,
   "metadata": {},
   "outputs": [],
   "source": [
    "model = ResNet50(weights=\"imagenet\", include_top=True)\n",
    "\n",
    "# input_folder = './raccoon_dataset-master/images/'\n",
    "# image_list = load_images(input_folder)\n",
    "\n",
    "img = cv2.imread(\"./car1.jpg\")\n",
    "(H, W) = img.shape[:2] #We are taking the second image from out dataset of images"
   ]
  },
  {
   "cell_type": "markdown",
   "metadata": {},
   "source": [
    "<b>1.3.3 </b> We initialize our image pyramid generator object and then create the scaled images from the pyramid and then preprocess the scaled images.<br> We also put the regions of interest (ROIs) generated from pyramid + sliding window output into roi_window list and store the (x, y)-coordinates of where the ROI was in the original image in the loc_in_image list"
   ]
  },
  {
   "cell_type": "code",
   "execution_count": 7,
   "metadata": {},
   "outputs": [],
   "source": [
    "pyramid = image_pyramid(img, scale=scale, minSize=roi_size)\n",
    "# initialize two lists, one to hold the ROIs generated from the image\n",
    "# pyramid and sliding window, and another list used to store the\n",
    "# (x, y)-coordinates of where the ROI was in the original image\n",
    "roi_window = []\n",
    "loc_in_image = []\n",
    "\n",
    "for image in pyramid:\n",
    "    scale = W / float(image.shape[1])\n",
    "    for (x, y, roi) in sliding_window(image, step, roi_size):\n",
    "        x = int(x * scale)\n",
    "        y = int(y * scale)\n",
    "        w = int(roi_size[0] * scale)\n",
    "        h = int(roi_size[1] * scale)\n",
    "        \n",
    "        roi = cv2.resize(roi, INPUT_SIZE)\n",
    "        roi = img_to_array(roi)\n",
    "        roi = preprocess_input(roi)\n",
    "        \n",
    "        roi_window.append(roi)\n",
    "        loc_in_image.append((x, y, x + w, y + h))\n",
    "        \n",
    "roi_window = np.array(roi_window, dtype=\"float32\")"
   ]
  },
  {
   "cell_type": "markdown",
   "metadata": {},
   "source": [
    "<b>1.3.4 </b>  Inputting the ROIs into our pre-trained ResNet image classifier.<br>\n",
    "\n",
    "After feeding the ROIs in the model , we decodes the predictions, grabbing only the top prediction for each ROI."
   ]
  },
  {
   "cell_type": "code",
   "execution_count": 8,
   "metadata": {},
   "outputs": [
    {
     "name": "stdout",
     "output_type": "stream",
     "text": [
      "Time taken : 260.83409333229065\n"
     ]
    }
   ],
   "source": [
    "start = time.time()\n",
    "predictions = model.predict(roi_window)\n",
    "end = time.time()\n",
    "print(\"Time taken :\", end - start)\n",
    "\n",
    "predictions = imagenet_utils.decode_predictions(predictions, top=1)"
   ]
  },
  {
   "cell_type": "markdown",
   "metadata": {},
   "source": [
    "<b>1.3.5 </b> We loop over the predictions , and take ImageNet ID, class label, and probability and then check to see if the minimum confidence has been met <br>(i.e if the probability of the predicted ROIs is above the threshold probabilty defined in the constants earlier).<br>\n",
    "\n",
    "Then we update the labels dictionary(labels) with the bounding box and prob score tuple (box, probs) associated with each class label."
   ]
  },
  {
   "cell_type": "code",
   "execution_count": 9,
   "metadata": {},
   "outputs": [],
   "source": [
    "labels = {}\n",
    "\n",
    "for (i, p) in enumerate(predictions):\n",
    "    (imagenetID, label, probs) = p[0]\n",
    "    # filtering out weaker detections by checking the predicted probability\n",
    "    # is greater than the threshols probability\n",
    "    if probs >= threshold_prob:\n",
    "        box = loc_in_image[i]\n",
    "        labels_list = labels.get(label, [])\n",
    "        labels_list.append((box, probs))\n",
    "        labels[label] = labels_list"
   ]
  },
  {
   "cell_type": "code",
   "execution_count": 10,
   "metadata": {},
   "outputs": [
    {
     "name": "stdout",
     "output_type": "stream",
     "text": [
      "dict_keys(['mortar', 'minivan', 'jeep', 'beach_wagon', 'convertible'])\n"
     ]
    }
   ],
   "source": [
    "print(labels.keys())"
   ]
  },
  {
   "cell_type": "markdown",
   "metadata": {},
   "source": [
    "<b> 1.3.6 Non-Maxima Supression </b> <br>\n",
    "\n",
    "Since there are multiple overlapping bounding boxes detected for each class label,we use non-maxima suppression (NMS) which gives us the bounding boxes with higher confidence9among the overlapping ones).\n",
    "\n",
    "Before that we visualise the bounding box predictions in the original image."
   ]
  },
  {
   "cell_type": "code",
   "execution_count": 11,
   "metadata": {},
   "outputs": [],
   "source": [
    "for label in labels.keys():\n",
    "    clone = img.copy()\n",
    "    for (box, prob) in labels[label]:\n",
    "        (startX, startY, endX, endY) = box\n",
    "        cv2.rectangle(clone, (startX, startY), (endX, endY),(0, 255, 0), 2)\n",
    "    cv2.imshow(\"Before\", clone)\n",
    "    cv2.waitKey(0)\n",
    "    cv2.destroyAllWindows()\n",
    "    cv2.waitKey(1)\n",
    "    clone = img.copy()"
   ]
  },
  {
   "cell_type": "markdown",
   "metadata": {},
   "source": [
    "We apply NMS and then visualise the final bounding box predictions in the original image."
   ]
  },
  {
   "cell_type": "code",
   "execution_count": 13,
   "metadata": {},
   "outputs": [
    {
     "name": "stdout",
     "output_type": "stream",
     "text": [
      "[[ 48 128 272 275]]\n",
      "[[232 208 456 355]\n",
      " [360 264 584 411]\n",
      " [276  72 612 292]\n",
      " [ 24  84 360 304]]\n",
      "[[  0 152 224 299]]\n",
      "[[ 72 108 408 328]]\n",
      "[[136 240 360 387]]\n"
     ]
    }
   ],
   "source": [
    "for label in labels.keys():\n",
    "    boxes = np.array([p[0] for p in labels[label]])\n",
    "    # print(boxes)\n",
    "    prob = np.array([p[1] for p in labels[label]])\n",
    "    boxes = non_max_suppression(boxes, prob)\n",
    "    print(boxes)\n",
    "    for (startX, startY, endX, endY) in boxes:\n",
    "            cv2.rectangle(clone, (startX, startY), (endX, endY),(0, 255, 0), 2)\n",
    "            y = startY - 10 if startY - 10 > 10 else startY + 10\n",
    "            cv2.putText(clone, label, (startX, y),cv2.FONT_HERSHEY_SIMPLEX, 0.45, (0, 255, 0), 2)\n",
    "    cv2.imshow(\"After\", clone)\n",
    "    cv2.waitKey(0)\n",
    "    cv2.destroyAllWindows()\n",
    "    cv2.waitKey(1)\n",
    "    clone = img.copy()"
   ]
  },
  {
   "cell_type": "markdown",
   "metadata": {},
   "source": [
    "<h2> 2. Selective Search </h2>"
   ]
  },
  {
   "cell_type": "code",
   "execution_count": 27,
   "metadata": {},
   "outputs": [],
   "source": [
    "image = img\n",
    "method = 'quality' #or 'quality'"
   ]
  },
  {
   "cell_type": "code",
   "execution_count": 28,
   "metadata": {},
   "outputs": [],
   "source": [
    "def selectiveSearch(image,method):\n",
    "    select_search = cv2.ximgproc.segmentation.createSelectiveSearchSegmentation()\n",
    "    select_search.setBaseImage(image)\n",
    "    \n",
    "    if method == \"fast\":\n",
    "        select_search.switchToSelectiveSearchFast()\n",
    "    else:\n",
    "        select_search.switchToSelectiveSearchQuality()\n",
    "        \n",
    "    regions = select_search.process()\n",
    "    return regions\n",
    "\n",
    "regions = selectiveSearch(image,method)"
   ]
  },
  {
   "cell_type": "code",
   "execution_count": 29,
   "metadata": {},
   "outputs": [],
   "source": [
    "for i in range(0, len(regions), 100):\n",
    "    output = image.copy()\n",
    "    # loop over the current subset of region proposals\n",
    "    for (x, y, w, h) in regions[i:i + 100]:\n",
    "        # draw the region proposal bounding box on the image\n",
    "        color = [random.randint(0, 255) for _ in range(0, 3)]\n",
    "        cv2.rectangle(output, (x, y), (x + w, y + h), color, 2)\n",
    "    # show the output image\n",
    "    cv2.imshow(\"Output\", output)\n",
    "    cv2.waitKey(0)\n",
    "    cv2.destroyAllWindows()\n",
    "    cv2.waitKey(1)\n",
    "output = image.copy()"
   ]
  },
  {
   "cell_type": "markdown",
   "metadata": {},
   "source": [
    "<h2> 3. Object Detector using Selective Search </h2>"
   ]
  },
  {
   "cell_type": "code",
   "execution_count": 44,
   "metadata": {},
   "outputs": [],
   "source": [
    "# filter_class = ['apple'] #Imagenet classes to consider\n",
    "proposals = [] #holds pre-processed ROIs from our input image, which will be fed into our ResNet classifier.\n",
    "bbox = [] # list of bounding box coordinates corresponding to our proposals\n",
    "#NOTE: Only sufficiently large proposal regions are included."
   ]
  },
  {
   "cell_type": "code",
   "execution_count": 45,
   "metadata": {},
   "outputs": [],
   "source": [
    "# if the width or height of the region is less than 10% of the\n",
    "# image width or height, ignore it (i.e., filter out small\n",
    "# objects that are likely false-positives)\n",
    "for (x, y, w, h) in regions:\n",
    "    if w / float(W) < 0.4 or h / float(H) < 0.2 or h / float(H) >0.6 or w / float(W) > 0.85 :\n",
    "        continue\n",
    "        \n",
    "    region_interest = image[y:y + h, x:x + w]\n",
    "    region_interest = cv2.cvtColor(region_interest, cv2.COLOR_BGR2RGB) #BGR to RGB\n",
    "    region_interest = cv2.resize(region_interest, (224, 224)) #resize it to 224x224;input dim of RESNET50\n",
    "    \n",
    "    region_interest = img_to_array(region_interest)\n",
    "    region_interest = preprocess_input(region_interest)\n",
    "    proposals.append(region_interest)\n",
    "    bbox.append((x, y, w, h)) "
   ]
  },
  {
   "cell_type": "code",
   "execution_count": 46,
   "metadata": {},
   "outputs": [
    {
     "name": "stdout",
     "output_type": "stream",
     "text": [
      "(407, 224, 224, 3)\n"
     ]
    }
   ],
   "source": [
    "proposals = np.array(proposals)\n",
    "print(proposals.shape)\n",
    "\n",
    "predictions = model.predict(proposals)\n",
    "predictions = imagenet_utils.decode_predictions(predictions, top=1)"
   ]
  },
  {
   "cell_type": "code",
   "execution_count": 47,
   "metadata": {},
   "outputs": [],
   "source": [
    "labels = {}\n",
    "for (i, p) in enumerate(predictions):\n",
    "    (imagenetID, label, probability) = p[0]\n",
    "    #if label does not exist in the filter class list, ignore it\n",
    "#     if filter_class is not None and label not in filter_class:\n",
    "#         continue\n",
    "    # filtering out detections whose predicted probability\n",
    "    # is lesser than the threshold probability    \n",
    "    if probability >= threshold_prob:\n",
    "        # grab the bounding box associated with the prediction and\n",
    "        # convert the coordinates\n",
    "        (x, y, w, h) = bbox[i]\n",
    "        box = (x, y, x + w, y + h)\n",
    "        # grab the list of predictions for the label and add the\n",
    "        # bounding box + probability to the list\n",
    "        label_list = labels.get(label, [])\n",
    "        label_list.append((box, probability))\n",
    "        labels[label] = label_list"
   ]
  },
  {
   "cell_type": "code",
   "execution_count": 34,
   "metadata": {},
   "outputs": [],
   "source": [
    "# labels"
   ]
  },
  {
   "cell_type": "code",
   "execution_count": 48,
   "metadata": {},
   "outputs": [
    {
     "data": {
      "text/plain": [
       "dict_keys(['minivan', 'car_wheel'])"
      ]
     },
     "execution_count": 48,
     "metadata": {},
     "output_type": "execute_result"
    }
   ],
   "source": [
    "labels.keys()"
   ]
  },
  {
   "cell_type": "code",
   "execution_count": 49,
   "metadata": {},
   "outputs": [],
   "source": [
    "    \n",
    "for label in labels.keys():    \n",
    "    boxes = np.array([p[0] for p in labels[label]])\n",
    "    prob = np.array([p[1] for p in labels[label]])\n",
    "    boxes = non_max_suppression(boxes, prob)\n",
    "    # loop over all bounding boxes that were kept after applying\n",
    "    # non-maxima suppression\n",
    "    for (startX, startY, endX, endY) in boxes:\n",
    "        # draw the bounding box and label on the image\n",
    "        cv2.rectangle(output, (startX, startY), (endX, endY),(0, 255, 0), 2)\n",
    "        y = startY - 10 if startY - 10 > 10 else startY + 10\n",
    "        cv2.putText(output, label, (startX, y),cv2.FONT_HERSHEY_SIMPLEX, 0.45, (0, 255, 0), 2)\n",
    "    # show the output after apply non-maxima suppression\n",
    "    cv2.imshow(\"After\", output)\n",
    "    cv2.waitKey(0)\n",
    "    cv2.destroyAllWindows()\n",
    "    cv2.waitKey(1)\n",
    "    output = image.copy()"
   ]
  },
  {
   "cell_type": "code",
   "execution_count": 3,
   "metadata": {},
   "outputs": [],
   "source": [
    "from bs4 import BeautifulSoup\n",
    "from imutils import paths\n",
    "import cv2\n",
    "import os"
   ]
  },
  {
   "cell_type": "markdown",
   "metadata": {},
   "source": [
    "<h2>Training a RCNN from scratch</h2>"
   ]
  },
  {
   "cell_type": "markdown",
   "metadata": {},
   "source": [
    "We will use the following steps to train a R-CNN model:\n",
    "    \n",
    "1. Using Selective Search, we build an object detection dataset.\n",
    "\n",
    "2. Then we fine-tune a object classification network that is originally trained on ImageNet dataset(MobileNet, pre-trained on ImageNet).\n",
    "\n",
    "3. We create an object detection script that utilizes Selective Search to propose regions that could contain an object that we would like to detect.\n",
    "\n",
    "4. Use our fine-tuned network to classify each region proposed via Selective Search\n",
    "\n",
    "5. Apply non-maxima suppression to suppress weak, overlapping bounding boxes.\n",
    "\n",
    "6. Return the final object detection results"
   ]
  },
  {
   "cell_type": "code",
   "execution_count": null,
   "metadata": {},
   "outputs": [],
   "source": [
    "from tensorflow.keras.applications.mobilenet_v2 import preprocess_input\n",
    "from tensorflow.keras.applications import MobileNetV2\n",
    "from tensorflow.keras.preprocessing.image import img_to_array\n",
    "from tensorflow.keras.models import load_model\n",
    "import numpy as np\n",
    "import argparse\n",
    "import imutils\n",
    "import pickle\n",
    "import cv2\n",
    "import os\n",
    "\n",
    "from tensorflow.keras.preprocessing.image import ImageDataGenerator\n",
    "\n",
    "from tensorflow.keras.layers import AveragePooling2D\n",
    "from tensorflow.keras.layers import Dropout\n",
    "from tensorflow.keras.layers import Flatten\n",
    "from tensorflow.keras.layers import Dense\n",
    "from tensorflow.keras.layers import Input\n",
    "from tensorflow.keras.models import Model\n",
    "from tensorflow.keras.optimizers import Adam\n",
    "from tensorflow.keras.applications.mobilenet_v2 import preprocess_input\n",
    "from tensorflow.keras.preprocessing.image import load_img\n",
    "from tensorflow.keras.utils import to_categorical\n",
    "from sklearn.preprocessing import LabelBinarizer\n",
    "from sklearn.model_selection import train_test_split\n",
    "from sklearn.metrics import classification_report\n",
    "\n",
    "import matplotlib.pyplot as plt\n"
   ]
  },
  {
   "cell_type": "code",
   "execution_count": 8,
   "metadata": {},
   "outputs": [],
   "source": [
    "#configurations\n",
    "\n",
    "images_orig = './Data/images'\n",
    "labels_orig = './Data/annotations'\n",
    "\n",
    "base_path = './custom_dataset/'\n",
    "racoon = './custom_dataset/racoon'\n",
    "no_racoon = './custom_dataset/no_racoon'\n",
    "\n",
    "max_region_proposal_train = 2000\n",
    "max_region_proposal_infer = 200\n",
    "\n",
    "max_positive_per_image = 30\n",
    "max_negative_per_image = 10\n",
    "\n",
    "#Model specific\n",
    "input_dims = (224, 224)\n",
    "\n",
    "MODEL_PATH = \"model/raccoon_detector.h5\"\n",
    "ENCODER_PATH = \"lmodel/abel_encoder.pickle\"\n",
    "#The minimum probability required for a positive prediction during inference (used to filter out false-positive detections)\n",
    "#is set to 99%\n",
    "min_probability = 0.99"
   ]
  },
  {
   "cell_type": "markdown",
   "metadata": {},
   "source": [
    "To measure performance of our object detector at predicting bounding boxes, we use the Intersection over Union (IoU) metric.\n",
    "\n",
    "`The IoU method computes the ratio of the area of overlap to the area of the union between the predicted bounding box and the ground-truth bounding box:`"
   ]
  },
  {
   "cell_type": "markdown",
   "metadata": {},
   "source": [
    "<img src = 'IOU1.png'/>"
   ]
  },
  {
   "cell_type": "markdown",
   "metadata": {},
   "source": [
    "IoU is used to measure object detection accuracy, i.e how much a given Selective Search proposal overlaps with a ground-truth bounding box (useful in generating racoon and no-racoon examples for our training data)."
   ]
  },
  {
   "cell_type": "code",
   "execution_count": 2,
   "metadata": {},
   "outputs": [],
   "source": [
    "def cal_iou(box_proposed, box_groundtruth):\n",
    "    # determine the (x, y)-coordinates of the intersection rectangle\n",
    "    x1 = max(box_proposed[0], box_groundtruth[0])\n",
    "    y1 = max(box_proposed[1], box_groundtruth[1])\n",
    "    x2 = min(box_proposed[2], box_groundtruth[2])\n",
    "    y2 = min(box_proposed[3], box_groundtruth[3])\n",
    "    # compute the area of intersection rectangle\n",
    "    intersection = max(0, x2 - x1 + 1) * max(0, y2 - y1 + 1)\n",
    "    # compute the area of both the prediction and ground-truth\n",
    "    # rectangles\n",
    "    area_1 = (box_proposed[2] - box_proposed[0] + 1) * (box_proposed[3] - box_proposed[1] + 1)\n",
    "    area_2 = (box_groundtruth[2] - box_groundtruth[0] + 1) * (box_groundtruth[3] - box_groundtruth[1] + 1)\n",
    "    union = float(area_1 + area_2 - intersection)\n",
    "    # compute the intersection over union by taking the intersection\n",
    "    # area and dividing it by the sum of prediction + ground-truth\n",
    "    # areas - the intersection area\n",
    "    iou = intersection / union\n",
    "    # return the intersection over union value\n",
    "    return iou"
   ]
  },
  {
   "cell_type": "markdown",
   "metadata": {},
   "source": [
    "<h3> 1 . Building object detection dataset using selective search </h3>"
   ]
  },
  {
   "cell_type": "markdown",
   "metadata": {},
   "source": [
    "Steps used to build our custom datasets:\n",
    "\n",
    "1. We take the input images data and the bounding box data from local directories\n",
    "\n",
    "2. Loop over all images.\n",
    "\n",
    "   * load the input image \n",
    "   * For each image we get the ground truth bounding box co-ordinates for any  racoon .\n",
    "   * We run selective search on the input image to get the region proposals for the input image.\n",
    "   \n",
    "   * We calculate IoU to determine whether  or not the region proposals from Selective Search sufficiently overlap with the ground-truth bounding boxes \n",
    "   \n",
    "   * We then save the region proposals which are  overlapping (contains raccoon) in the ./custom-dataset/racoon directory and which doenot not (no raccoon) in ./custom-dataset/no_racoon directory."
   ]
  },
  {
   "cell_type": "code",
   "execution_count": 57,
   "metadata": {},
   "outputs": [],
   "source": [
    "countPositive = 0\n",
    "countNegative = 0\n",
    "\n",
    "#taking all image paths in the input images directory\n",
    "image_paths = list(paths.list_images(images_orig))\n",
    "\n",
    "for (i, path) in enumerate(image_paths):\n",
    "    file = path.split(os.path.sep)[-1]\n",
    "    file = file[:file.rfind(\".\")]\n",
    "    label_path = os.path.sep.join([labels_orig,\"{}.xml\".format(file)])\n",
    "    \n",
    "    contents = open(label_path).read()\n",
    "    soup = BeautifulSoup(contents, \"html.parser\")\n",
    "    gt_bb = []\n",
    "    # extract the image dimensions\n",
    "    width = int(soup.find(\"width\").string)\n",
    "    height = int(soup.find(\"height\").string)\n",
    "    \n",
    "    for obj in soup.find_all(\"object\"):\n",
    "        # extract the label and bounding box coordinates\n",
    "        label = obj.find(\"name\").string\n",
    "        xMin = int(obj.find(\"xmin\").string)\n",
    "        yMin = int(obj.find(\"ymin\").string)\n",
    "        xMax = int(obj.find(\"xmax\").string)\n",
    "        yMax = int(obj.find(\"ymax\").string)\n",
    "        # truncate any bounding box coordinates that may fall\n",
    "        # outside the boundaries of the image\n",
    "        xMin = max(0, xMin)\n",
    "        yMin = max(0, yMin)\n",
    "        xMax = min(width, xMax)\n",
    "        yMax = min(height, yMax)\n",
    "        # update our list of ground-truth bounding boxes\n",
    "        gt_bb.append((xMin, yMin, xMax, yMax))\n",
    "        \n",
    "    image = cv2.imread(path)\n",
    "    # run selective search on the image and initialize our list of\n",
    "    # proposed boxes\n",
    "    sel_search = cv2.ximgproc.segmentation.createSelectiveSearchSegmentation()\n",
    "    sel_search.setBaseImage(image)\n",
    "    sel_search.switchToSelectiveSearchFast()\n",
    "    rects = sel_search.process()\n",
    "    \n",
    "    regionproposed = []\n",
    "    # loop over the rectangles generated by selective search\n",
    "    for (x, y, w, h) in rects:\n",
    "        # convert our bounding boxes from (x, y, w, h) to (startX,\n",
    "        # startY, startX, endY)\n",
    "        regionproposed.append((x, y, x + w, y + h))\n",
    "        \n",
    "    positive_bb = 0\n",
    "    negative_bb = 0\n",
    "    \n",
    "    for region in regionproposed[:max_region_proposal_train]:\n",
    "        # unpack the proposed rectangle bounding box\n",
    "        (StartX, StartY, EndX, EndY) = region\n",
    "        # loop over the ground-truth bounding boxes\n",
    "        for bb in gt_bb:\n",
    "            # compute the intersection over union between the two\n",
    "            # boxes and unpack the ground-truth bounding box\n",
    "            iou = cal_iou(bb, region)\n",
    "            (gtStartX, gtStartY, gtEndX, gtEndY) = bb\n",
    "#             print(gtStartX, gtStartY, gtEndX, gtEndY)\n",
    "            # initialize the ROI and output path\n",
    "            roi = None\n",
    "            outputPath = None\n",
    "\n",
    "            if iou > 0.7 and positive_bb <= max_positive_per_image:\n",
    "                    # extract the ROI and then derive the output path to\n",
    "                    # the positive instance\n",
    "                    roi = image[StartY:EndY, StartX:EndX]\n",
    "                    filename = \"{}.png\".format(countPositive)\n",
    "                    outputPath = os.path.sep.join([racoon,filename])\n",
    "                    # increment the positive counters\n",
    "                    positive_bb += 1\n",
    "                    countPositive += 1\n",
    "                    \n",
    "            fullOverlap = StartX >= gtStartX\n",
    "            fullOverlap = fullOverlap and StartY >= gtStartY\n",
    "            fullOverlap = fullOverlap and EndX <= gtEndX\n",
    "            fullOverlap = fullOverlap and EndY <= gtEndY\n",
    "            \n",
    "            if not fullOverlap and iou < 0.05 and negative_bb <= max_negative_per_image:\n",
    "                # extract the ROI and then derive the output path to\n",
    "                # the negative instance\n",
    "                roi = image[StartY:EndY, StartX:EndX]\n",
    "                filename = \"{}.png\".format(countNegative)\n",
    "                outputPath = os.path.sep.join([no_racoon,filename])\n",
    "                # increment the negative counters\n",
    "                negative_bb += 1\n",
    "                countNegative += 1\n",
    "            if roi is not None and outputPath is not None:\n",
    "                # resize the ROI to the input dimensions of the CNN\n",
    "                # that we'll be fine-tuning, then write the ROI to\n",
    "                # disk\n",
    "                roi = cv2.resize(roi, input_dims,interpolation=cv2.INTER_CUBIC)\n",
    "                cv2.imwrite(outputPath, roi)"
   ]
  },
  {
   "cell_type": "code",
   "execution_count": 66,
   "metadata": {},
   "outputs": [
    {
     "name": "stdout",
     "output_type": "stream",
     "text": [
      "No of images in racoon custom dataset:  1563\n",
      "No of images in no_racoon custom dataset:  2200\n"
     ]
    }
   ],
   "source": [
    "print('No of images in racoon custom dataset: ',len([f for f in os.listdir(racoon)]))\n",
    "print('No of images in no_racoon custom dataset: ',len([f for f in os.listdir(no_racoon)]))"
   ]
  },
  {
   "cell_type": "markdown",
   "metadata": {},
   "source": [
    "<h3> 2. Fine-tune a object classification network that is originally trained on ImageNet dataset(MobileNet, pre-trained on ImageNet)."
   ]
  },
  {
   "cell_type": "code",
   "execution_count": 4,
   "metadata": {},
   "outputs": [],
   "source": [
    "accuracy_loss_plot = 'plot.png'\n",
    "\n",
    "learn_rate_init = 1e-4\n",
    "epochs = 5\n",
    "batch_size = 32"
   ]
  },
  {
   "cell_type": "code",
   "execution_count": 89,
   "metadata": {},
   "outputs": [],
   "source": [
    "def loadImageslabels(img_dir):   \n",
    "    image_paths = list(paths.list_images(img_dir))\n",
    "    images = []\n",
    "    labels = []\n",
    "    # loop over the image paths\n",
    "    for ip in image_paths:\n",
    "        # extract the class label from the filename\n",
    "        label = ip.split(os.path.sep)[-2].split('/')[-1]\n",
    "        # load the input image (224x224) and preprocess it\n",
    "        image = load_img(ip, target_size = input_dims)\n",
    "        image = img_to_array(image)\n",
    "        image = preprocess_input(image)\n",
    "        # update the data and labels lists, respectively\n",
    "        images.append(image)\n",
    "        labels.append(label)\n",
    "    return images,labels"
   ]
  },
  {
   "cell_type": "code",
   "execution_count": 94,
   "metadata": {},
   "outputs": [],
   "source": [
    "images,labels = loadImageslabels(base_path)"
   ]
  },
  {
   "cell_type": "code",
   "execution_count": 95,
   "metadata": {},
   "outputs": [],
   "source": [
    "images = np.array(images, dtype=\"float32\")\n",
    "labels = np.array(labels)\n",
    "\n",
    "# perform one-hot encoding on the labels\n",
    "lb = LabelBinarizer()\n",
    "labels = lb.fit_transform(labels)\n",
    "labels = to_categorical(labels)\n",
    "\n",
    "\n",
    "# Train/test splits using 75% of the data for training and the remaining 25% for testing\n",
    "(X_train, X_test, y_train, y_test) = train_test_split(images, labels,test_size=0.20, stratify=labels, random_state=42)\n",
    "\n",
    "# construct the training image generator for data augmentation\n",
    "aug = ImageDataGenerator(\n",
    "    rotation_range=20,\n",
    "    zoom_range=0.15,\n",
    "    width_shift_range=0.2,\n",
    "    height_shift_range=0.2,\n",
    "    shear_range=0.15,\n",
    "    horizontal_flip=True,\n",
    "    fill_mode=\"nearest\"\n",
    ")"
   ]
  },
  {
   "cell_type": "code",
   "execution_count": 107,
   "metadata": {},
   "outputs": [],
   "source": [
    "#saving label encoder\n",
    "file = open(\"label_encoder.pickle\", \"wb\")\n",
    "file.write(pickle.dumps(lb))\n",
    "file.close()"
   ]
  },
  {
   "cell_type": "markdown",
   "metadata": {},
   "source": [
    "The MobileNet base network has pre-trained weights that are frozen. We will only train the head of the network as done below. Notice that the head of our network has a Softmax Classifier with 2 outputs.these outputs corresponds to our raccoon and no_raccoon classes."
   ]
  },
  {
   "cell_type": "code",
   "execution_count": 97,
   "metadata": {},
   "outputs": [],
   "source": [
    "# Loading  MobileNet pre-trained on the ImageNet dataset, leaving off fully-connect (FC) head\n",
    "# here include_top = false cuts of the head from the base model\n",
    "base_model = MobileNetV2(weights=\"imagenet\", include_top=False,input_tensor=Input(shape=(224, 224, 3)))\n",
    "\n",
    "#constructing  a new fully connected head of the model that is placed on top of the base model\n",
    "head = base_model.output\n",
    "head = AveragePooling2D(pool_size=(7, 7))(head)\n",
    "head = Flatten(name=\"flatten\")(head)\n",
    "head = Dense(128, activation=\"relu\")(head)\n",
    "head = Dropout(0.5)(head)\n",
    "head = Dense(2, activation=\"softmax\")(head)\n",
    "\n",
    "model = Model(inputs=base_model.input, outputs=head)\n",
    "\n",
    "# Freezing the base layers of MobileNet (setting them as not trainable)\n",
    "for layer in base_model.layers:\n",
    "    layer.trainable = False"
   ]
  },
  {
   "cell_type": "code",
   "execution_count": 99,
   "metadata": {},
   "outputs": [
    {
     "name": "stdout",
     "output_type": "stream",
     "text": [
      "[INFO] training head...\n",
      "WARNING:tensorflow:sample_weight modes were coerced from\n",
      "  ...\n",
      "    to  \n",
      "  ['...']\n",
      "Train for 94 steps, validate on 753 samples\n",
      "Epoch 1/5\n",
      "94/94 [==============================] - 608s 6s/step - loss: 0.3352 - accuracy: 0.8590 - val_loss: 0.1424 - val_accuracy: 0.9660\n",
      "Epoch 2/5\n",
      "94/94 [==============================] - 614s 7s/step - loss: 0.1299 - accuracy: 0.9567 - val_loss: 0.0909 - val_accuracy: 0.9810\n",
      "Epoch 3/5\n",
      "94/94 [==============================] - 606s 6s/step - loss: 0.0838 - accuracy: 0.9725 - val_loss: 0.0552 - val_accuracy: 0.9905\n",
      "Epoch 4/5\n",
      "94/94 [==============================] - 618s 7s/step - loss: 0.0711 - accuracy: 0.9788 - val_loss: 0.0629 - val_accuracy: 0.9864\n",
      "Epoch 5/5\n",
      "94/94 [==============================] - 603s 6s/step - loss: 0.0622 - accuracy: 0.9812 - val_loss: 0.0363 - val_accuracy: 0.9932\n"
     ]
    }
   ],
   "source": [
    "optimizer = Adam(lr = learn_rate_init)\n",
    "model.compile(loss=\"binary_crossentropy\", optimizer=optimizer, metrics=[\"accuracy\"])\n",
    "# train the head of the network\n",
    "print(\"[INFO] training head...\")\n",
    "history = model.fit(aug.flow(X_train, y_train, batch_size=batch_size),steps_per_epoch=len(X_train) // batch_size,\n",
    "    validation_data=(X_test, y_test),validation_steps=len(X_test) // batch_size, epochs=epochs)"
   ]
  },
  {
   "cell_type": "code",
   "execution_count": 100,
   "metadata": {},
   "outputs": [
    {
     "name": "stdout",
     "output_type": "stream",
     "text": [
      "              precision    recall  f1-score   support\n",
      "\n",
      "   no_racoon       1.00      0.99      0.99       440\n",
      "      racoon       0.99      0.99      0.99       313\n",
      "\n",
      "    accuracy                           0.99       753\n",
      "   macro avg       0.99      0.99      0.99       753\n",
      "weighted avg       0.99      0.99      0.99       753\n",
      "\n"
     ]
    }
   ],
   "source": [
    "predictions = model.predict(X_test, batch_size = batch_size)\n",
    "# for each image in the testset we find the index of the\n",
    "# label with corresponding largest predicted probability\n",
    "predictions = np.argmax(predictions, axis=1)\n",
    "\n",
    "print(classification_report(y_test.argmax(axis=1), predictions, target_names=lb.classes_))"
   ]
  },
  {
   "cell_type": "code",
   "execution_count": 105,
   "metadata": {},
   "outputs": [],
   "source": [
    "def plot_performance(history,epochs):\n",
    "    plt.style.use(\"ggplot\")\n",
    "    plt.figure(figsize = (15,10))\n",
    "    plt.plot(np.arange(0, epochs), history.history[\"loss\"], label=\"train_loss\")\n",
    "    plt.plot(np.arange(0, epochs), history.history[\"val_loss\"], label=\"val_loss\")\n",
    "    plt.plot(np.arange(0, epochs), history.history[\"accuracy\"], label=\"train_acc\")\n",
    "    plt.plot(np.arange(0, epochs), history.history[\"val_accuracy\"], label=\"val_acc\")\n",
    "    plt.title(\"Training Loss and Accuracy\")\n",
    "    plt.xlabel(\"Epoch #\")\n",
    "    plt.ylabel(\"Loss/Accuracy\")\n",
    "    plt.legend(loc=\"lower left\")\n",
    "    plt.savefig(accuracy_loss_plot)"
   ]
  },
  {
   "cell_type": "code",
   "execution_count": 106,
   "metadata": {},
   "outputs": [
    {
     "data": {
      "image/png": "[encoded data removed]",
      "text/plain": [
       "<Figure size 1080x720 with 1 Axes>"
      ]
     },
     "metadata": {},
     "output_type": "display_data"
    }
   ],
   "source": [
    "model.save('custom_rcnn_model.h5')\n",
    "\n",
    "plot_performance(history,epochs)"
   ]
  },
  {
   "cell_type": "code",
   "execution_count": null,
   "metadata": {},
   "outputs": [],
   "source": []
  },
  {
   "cell_type": "markdown",
   "metadata": {},
   "source": [
    "<h3> 3. Selective Search to propose regions that could contain an object that we would like to detect."
   ]
  },
  {
   "cell_type": "code",
   "execution_count": 28,
   "metadata": {},
   "outputs": [],
   "source": [
    "model = load_model('custom_rcnn_model.h5')\n",
    "lb = pickle.loads(open('label_encoder.pickle', \"rb\").read())"
   ]
  },
  {
   "cell_type": "code",
   "execution_count": 29,
   "metadata": {},
   "outputs": [],
   "source": [
    "image = cv2.imread(os.path.join(images_orig,'raccoon-1.jpg'))\n",
    "image = imutils.resize(image, width=500)\n",
    "\n",
    "\n",
    "select_search = cv2.ximgproc.segmentation.createSelectiveSearchSegmentation()\n",
    "select_search.setBaseImage(image)\n",
    "select_search.switchToSelectiveSearchFast()\n",
    "bbox = select_search.process()\n",
    "\n",
    "proposals = []\n",
    "boxes = []\n",
    "# loop over the region proposal bounding box coordinates generated by\n",
    "# running selective search\n",
    "for (x, y, w, h) in bbox[ : max_region_proposal_infer]:\n",
    "    # extract the region from the input image, convert it from BGR to\n",
    "    # RGB channel ordering, and then resize it to the required input\n",
    "    # dimensions of our trained CNN\n",
    "    roi = image[y:y + h, x:x + w]\n",
    "    roi = cv2.cvtColor(roi, cv2.COLOR_BGR2RGB)\n",
    "    roi = cv2.resize(roi, input_dims, interpolation=cv2.INTER_CUBIC)\n",
    "    # further preprocess the ROI\n",
    "    roi = img_to_array(roi)\n",
    "    roi = preprocess_input(roi)\n",
    "    # update our proposals and bounding boxes lists\n",
    "    proposals.append(roi)\n",
    "    boxes.append((x, y, x + w, y + h))\n",
    "    \n",
    "proposals = np.array(proposals, dtype=\"float32\")\n",
    "boxes = np.array(boxes, dtype=\"int32\")"
   ]
  },
  {
   "cell_type": "markdown",
   "metadata": {},
   "source": [
    "<h3> 4. Using our fine-tuned network to classify each region proposed via Selective Search"
   ]
  },
  {
   "cell_type": "code",
   "execution_count": 30,
   "metadata": {},
   "outputs": [],
   "source": [
    "predictions = model.predict(proposals)\n",
    "\n",
    "labels = lb.classes_[np.argmax(predictions, axis=1)]\n",
    "labels = np.array(labels)\n",
    "ids = np.where(labels == 'racoon')[0]\n",
    "\n",
    "# use the indexes to extract all bounding boxes and associated class\n",
    "# label probabilities associated with the \"raccoon\" class\n",
    "boxes = boxes[ids]\n",
    "predictions = predictions[ids][:, 1]\n",
    "\n",
    "\n",
    "# further filter indexes by enforcing a minimum prediction\n",
    "# probability be met\n",
    "idx = np.where(predictions >= min_probability)\n",
    "boxes = boxes[idx]\n",
    "predictions = predictions[idx]"
   ]
  },
  {
   "cell_type": "code",
   "execution_count": 49,
   "metadata": {},
   "outputs": [],
   "source": [
    "clone = image.copy()\n",
    "i = 0\n",
    "a = []\n",
    "for (box, preds) in zip(boxes, predictions):\n",
    "    (startX, startY, endX, endY) = box\n",
    "    a.append((box,i))\n",
    "    i += 1\n",
    "    cv2.rectangle(clone, (startX, startY), (endX, endY),(0, 255, 0), 2)\n",
    "    y = startY - 10 if startY - 10 > 10 else startY + 10\n",
    "    text= \"Raccoon: {:.2f}%\".format(preds * 100)\n",
    "    cv2.putText(clone, text, (startX, y),cv2.FONT_HERSHEY_SIMPLEX, 0.45, (0, 255, 0), 2)\n",
    "    \n",
    "#     output = image.copy()\n",
    "cv2.imshow(\"Before NMS\", clone)\n",
    "cv2.waitKey(0)\n",
    "cv2.destroyAllWindows()\n",
    "cv2.waitKey(1)\n",
    "clone = image.copy()"
   ]
  },
  {
   "cell_type": "markdown",
   "metadata": {},
   "source": [
    "<img src = 'custom_ccn_b4_nms.png'/>"
   ]
  },
  {
   "cell_type": "markdown",
   "metadata": {},
   "source": [
    "<h3> 5. Apply non-maxima suppression to suppress weak, overlapping bounding boxes and show the results of our object  detector"
   ]
  },
  {
   "cell_type": "code",
   "execution_count": 63,
   "metadata": {},
   "outputs": [],
   "source": [
    "box = non_max_suppression(boxes, predictions)\n",
    "\n",
    "# loop over the bounding box indexes\n",
    "for (startX, startY, endX, endY) in box:\n",
    "        box1 = np.array([startX, startY, endX, endY])\n",
    "        text = ''\n",
    "        # draw the bounding box and label on the image\n",
    "        cv2.rectangle(image, (startX, startY), (endX, endY),(0, 255, 0), 2)\n",
    "        y = startY - 10 if startY - 10 > 10 else startY + 10\n",
    "        for item in a:\n",
    "            if(np.array_equal(item[0],box1)):\n",
    "                i = item[1]\n",
    "                text= \"Raccoon: {:.2f}%\".format(predictions[i] * 100)\n",
    "        cv2.putText(image, text, (startX, y),cv2.FONT_HERSHEY_SIMPLEX, 0.45, (0, 255, 0), 2)\n",
    "    # show the output after apply non-maxima suppression\n",
    "cv2.imshow(\"After\", image)\n",
    "cv2.waitKey(0)\n",
    "cv2.destroyAllWindows()\n",
    "cv2.waitKey(1)\n",
    "clone = image.copy()\n"
   ]
  },
  {
   "cell_type": "markdown",
   "metadata": {},
   "source": [
    "<img src = 'custom_ccn_after_nms.png'/>"
   ]
  },
  {
   "cell_type": "code",
   "execution_count": null,
   "metadata": {},
   "outputs": [],
   "source": []
  },
  {
   "cell_type": "code",
   "execution_count": null,
   "metadata": {},
   "outputs": [],
   "source": []
  },
  {
   "cell_type": "code",
   "execution_count": null,
   "metadata": {},
   "outputs": [],
   "source": []
  },
  {
   "cell_type": "code",
   "execution_count": null,
   "metadata": {},
   "outputs": [],
   "source": []
  },
  {
   "cell_type": "code",
   "execution_count": null,
   "metadata": {},
   "outputs": [],
   "source": []
  },
  {
   "cell_type": "code",
   "execution_count": null,
   "metadata": {},
   "outputs": [],
   "source": []
  },
  {
   "cell_type": "markdown",
   "metadata": {},
   "source": [
    "<h2>Yolo Model"
   ]
  },
  {
   "cell_type": "code",
   "execution_count": 221,
   "metadata": {},
   "outputs": [],
   "source": [
    "import argparse\n",
    "import os\n",
    "import numpy as np\n",
    "from keras.layers import Conv2D, Input, BatchNormalization, LeakyReLU, ZeroPadding2D, UpSampling2D\n",
    "from keras.layers.merge import add, concatenate\n",
    "from keras.models import Model,load_model\n",
    "from keras.preprocessing.image import load_img\n",
    "\n",
    "import struct\n",
    "import cv2\n",
    "from matplotlib.patches import Rectangle\n"
   ]
  },
  {
   "cell_type": "markdown",
   "metadata": {},
   "source": [
    "https://github.com/experiencor/keras-yolo3\n",
    "\n",
    "https://pjreddie.com/media/files/yolov3.weights\n",
    "    "
   ]
  },
  {
   "cell_type": "code",
   "execution_count": 226,
   "metadata": {},
   "outputs": [],
   "source": [
    "def yoloV3Model():\n",
    "    input_img = Input(shape=(None,None, 3))\n",
    "    print(input_img.shape)\n",
    "    \n",
    "    x = _conv_block(input_img, [{'filter': 32, 'kernel': 3, 'stride': 1, 'bnorm': True, 'leaky': True, 'layer_idx': 0},\n",
    "                                {'filter': 64, 'kernel': 3, 'stride': 2, 'bnorm': True, 'leaky': True, 'layer_idx': 1},\n",
    "                                {'filter': 32, 'kernel': 1, 'stride': 1, 'bnorm': True, 'leaky': True, 'layer_idx': 2},\n",
    "                                {'filter': 64, 'kernel': 3, 'stride': 1, 'bnorm': True, 'leaky': True, 'layer_idx': 3}])\n",
    "    \n",
    "    x = _conv_block(x, [{'filter': 128, 'kernel': 3, 'stride': 2, 'bnorm': True, 'leaky': True, 'layer_idx': 5},\n",
    "                        {'filter':  64, 'kernel': 1, 'stride': 1, 'bnorm': True, 'leaky': True, 'layer_idx': 6},\n",
    "                        {'filter': 128, 'kernel': 3, 'stride': 1, 'bnorm': True, 'leaky': True, 'layer_idx': 7}])\n",
    "\n",
    "    # Layer  9 => 11\n",
    "    x = _conv_block(x, [{'filter':  64, 'kernel': 1, 'stride': 1, 'bnorm': True, 'leaky': True, 'layer_idx': 9},\n",
    "                        {'filter': 128, 'kernel': 3, 'stride': 1, 'bnorm': True, 'leaky': True, 'layer_idx': 10}])\n",
    "\n",
    "    # Layer 12 => 15\n",
    "    x = _conv_block(x, [{'filter': 256, 'kernel': 3, 'stride': 2, 'bnorm': True, 'leaky': True, 'layer_idx': 12},\n",
    "                        {'filter': 128, 'kernel': 1, 'stride': 1, 'bnorm': True, 'leaky': True, 'layer_idx': 13},\n",
    "                        {'filter': 256, 'kernel': 3, 'stride': 1, 'bnorm': True, 'leaky': True, 'layer_idx': 14}])\n",
    "\n",
    "    # Layer 16 => 36\n",
    "    for i in range(7):\n",
    "        x = _conv_block(x, [{'filter': 128, 'kernel': 1, 'stride': 1, 'bnorm': True, 'leaky': True, 'layer_idx': 16+i*3},\n",
    "                            {'filter': 256, 'kernel': 3, 'stride': 1, 'bnorm': True, 'leaky': True, 'layer_idx': 17+i*3}])\n",
    "        \n",
    "    skip_36 = x\n",
    "    \n",
    "    x = _conv_block(x, [{'filter': 512, 'kernel': 3, 'stride': 2, 'bnorm': True, 'leaky': True, 'layer_idx': 37},\n",
    "                        {'filter': 256, 'kernel': 1, 'stride': 1, 'bnorm': True, 'leaky': True, 'layer_idx': 38},\n",
    "                        {'filter': 512, 'kernel': 3, 'stride': 1, 'bnorm': True, 'leaky': True, 'layer_idx': 39}])\n",
    "\n",
    "    # Layer 41 => 61\n",
    "    for i in range(7):\n",
    "        x = _conv_block(x, [{'filter': 256, 'kernel': 1, 'stride': 1, 'bnorm': True, 'leaky': True, 'layer_idx': 41+i*3},\n",
    "                            {'filter': 512, 'kernel': 3, 'stride': 1, 'bnorm': True, 'leaky': True, 'layer_idx': 42+i*3}])\n",
    "        \n",
    "    skip_61 = x\n",
    "    \n",
    "    \n",
    "    x = _conv_block(x, [{'filter': 1024, 'kernel': 3, 'stride': 2, 'bnorm': True, 'leaky': True, 'layer_idx': 62},\n",
    "                        {'filter':  512, 'kernel': 1, 'stride': 1, 'bnorm': True, 'leaky': True, 'layer_idx': 63},\n",
    "                        {'filter': 1024, 'kernel': 3, 'stride': 1, 'bnorm': True, 'leaky': True, 'layer_idx': 64}])\n",
    "\n",
    "    # Layer 66 => 74\n",
    "    for i in range(3):\n",
    "        x = _conv_block(x, [{'filter':  512, 'kernel': 1, 'stride': 1, 'bnorm': True, 'leaky': True, 'layer_idx': 66+i*3},\n",
    "                            {'filter': 1024, 'kernel': 3, 'stride': 1, 'bnorm': True, 'leaky': True, 'layer_idx': 67+i*3}])\n",
    "        \n",
    "    x = _conv_block(x, [{'filter':  512, 'kernel': 1, 'stride': 1, 'bnorm': True, 'leaky': True, 'layer_idx': 75},\n",
    "                        {'filter': 1024, 'kernel': 3, 'stride': 1, 'bnorm': True, 'leaky': True, 'layer_idx': 76},\n",
    "                        {'filter':  512, 'kernel': 1, 'stride': 1, 'bnorm': True, 'leaky': True, 'layer_idx': 77},\n",
    "                        {'filter': 1024, 'kernel': 3, 'stride': 1, 'bnorm': True, 'leaky': True, 'layer_idx': 78},\n",
    "                        {'filter':  512, 'kernel': 1, 'stride': 1, 'bnorm': True, 'leaky': True, 'layer_idx': 79}], \n",
    "                    skip=False)\n",
    "\n",
    "    # Layer 80 => 82\n",
    "    yolo_82 = _conv_block(x, [{'filter': 1024, 'kernel': 3, 'stride': 1, 'bnorm': True,  'leaky': True,  'layer_idx': 80},\n",
    "                              {'filter':  255, 'kernel': 1, 'stride': 1, 'bnorm': False, 'leaky': False, 'layer_idx': 81}],\n",
    "                          skip=False)\n",
    "    \n",
    "    x = _conv_block(x, [{'filter': 256, 'kernel': 1, 'stride': 1, 'bnorm': True, 'leaky': True, 'layer_idx': 84}], skip=False)\n",
    "    x = UpSampling2D(2)(x)\n",
    "    x = concatenate([x, skip_61])\n",
    "    \n",
    "    x = _conv_block(x, [{'filter': 256, 'kernel': 1, 'stride': 1, 'bnorm': True, 'leaky': True, 'layer_idx': 87},\n",
    "                        {'filter': 512, 'kernel': 3, 'stride': 1, 'bnorm': True, 'leaky': True, 'layer_idx': 88},\n",
    "                        {'filter': 256, 'kernel': 1, 'stride': 1, 'bnorm': True, 'leaky': True, 'layer_idx': 89},\n",
    "                        {'filter': 512, 'kernel': 3, 'stride': 1, 'bnorm': True, 'leaky': True, 'layer_idx': 90},\n",
    "                        {'filter': 256, 'kernel': 1, 'stride': 1, 'bnorm': True, 'leaky': True, 'layer_idx': 91}], skip=False)\n",
    "\n",
    "    # Layer 92 => 94\n",
    "    yolo_94 = _conv_block(x, [{'filter': 512, 'kernel': 3, 'stride': 1, 'bnorm': True,  'leaky': True,  'layer_idx': 92},\n",
    "                              {'filter': 255, 'kernel': 1, 'stride': 1, 'bnorm': False, 'leaky': False, 'layer_idx': 93}], skip=False)\n",
    "\n",
    "    # Layer 95 => 98\n",
    "    x = _conv_block(x, [{'filter': 128, 'kernel': 1, 'stride': 1, 'bnorm': True, 'leaky': True,   'layer_idx': 96}], skip=False)\n",
    "    x = UpSampling2D(2)(x)\n",
    "    x = concatenate([x, skip_36])\n",
    "\n",
    "    # Layer 99 => 106\n",
    "    yolo_106 = _conv_block(x, [{'filter': 128, 'kernel': 1, 'stride': 1, 'bnorm': True,  'leaky': True,  'layer_idx': 99},\n",
    "                               {'filter': 256, 'kernel': 3, 'stride': 1, 'bnorm': True,  'leaky': True,  'layer_idx': 100},\n",
    "                               {'filter': 128, 'kernel': 1, 'stride': 1, 'bnorm': True,  'leaky': True,  'layer_idx': 101},\n",
    "                               {'filter': 256, 'kernel': 3, 'stride': 1, 'bnorm': True,  'leaky': True,  'layer_idx': 102},\n",
    "                               {'filter': 128, 'kernel': 1, 'stride': 1, 'bnorm': True,  'leaky': True,  'layer_idx': 103},\n",
    "                               {'filter': 256, 'kernel': 3, 'stride': 1, 'bnorm': True,  'leaky': True,  'layer_idx': 104},\n",
    "                               {'filter': 255, 'kernel': 1, 'stride': 1, 'bnorm': False, 'leaky': False, 'layer_idx': 105}], skip=False)\n",
    "\n",
    "    model = Model(input_img, [yolo_82, yolo_94, yolo_106])    \n",
    "    return model\n",
    "    \n",
    "    \n",
    "    \n",
    "    \n",
    "def _conv_block(inp, convs, skip=True):\n",
    "    x = inp\n",
    "    count = 0\n",
    "    \n",
    "    for conv in convs:\n",
    "        if count == (len(convs) - 2) and skip:\n",
    "            skip_connection = x\n",
    "        count += 1\n",
    "        \n",
    "        if conv['stride'] > 1: x = ZeroPadding2D(((1,0),(1,0)))(x) # peculiar padding as darknet prefer left and top\n",
    "        x = Conv2D(conv['filter'], \n",
    "                   conv['kernel'], \n",
    "                   strides=conv['stride'], \n",
    "                   padding='valid' if conv['stride'] > 1 else 'same', # peculiar padding as darknet prefer left and top\n",
    "                   name='conv_' + str(conv['layer_idx']), \n",
    "                   use_bias=False if conv['bnorm'] else True)(x)\n",
    "        if conv['bnorm']: \n",
    "            x = BatchNormalization(epsilon=0.001, name='bnorm_' + str(conv['layer_idx']))(x)\n",
    "        if conv['leaky']: \n",
    "            x = LeakyReLU(alpha=0.1, name='leaky_' + str(conv['layer_idx']))(x)\n",
    "\n",
    "    return add([skip_connection, x]) if skip else x    \n",
    "    \n",
    "\n",
    "class WeightReader:\n",
    "    def __init__(self, weight_file):\n",
    "        with open(weight_file, 'rb') as w_f:\n",
    "            major,    = struct.unpack('i', w_f.read(4))\n",
    "            minor,    = struct.unpack('i', w_f.read(4))\n",
    "            revision, = struct.unpack('i', w_f.read(4))\n",
    "\n",
    "            if (major*10 + minor) >= 2 and major < 1000 and minor < 1000:\n",
    "                w_f.read(8)\n",
    "            else:\n",
    "                w_f.read(4)\n",
    "\n",
    "            transpose = (major > 1000) or (minor > 1000)\n",
    "            \n",
    "            binary = w_f.read()\n",
    "\n",
    "        self.offset = 0\n",
    "        self.all_weights = np.frombuffer(binary, dtype='float32')\n",
    "        \n",
    "    def read_bytes(self, size):\n",
    "        self.offset = self.offset + size\n",
    "        return self.all_weights[self.offset-size:self.offset]\n",
    "\n",
    "    def load_weights(self, model):\n",
    "        for i in range(106):\n",
    "            try:\n",
    "                conv_layer = model.get_layer('conv_' + str(i))\n",
    "                print(\"loading weights of convolution #\" + str(i))\n",
    "\n",
    "                if i not in [81, 93, 105]:\n",
    "                    norm_layer = model.get_layer('bnorm_' + str(i))\n",
    "\n",
    "                    size = np.prod(norm_layer.get_weights()[0].shape)\n",
    "\n",
    "                    beta  = self.read_bytes(size) # bias\n",
    "                    gamma = self.read_bytes(size) # scale\n",
    "                    mean  = self.read_bytes(size) # mean\n",
    "                    var   = self.read_bytes(size) # variance            \n",
    "\n",
    "                    weights = norm_layer.set_weights([gamma, beta, mean, var])  \n",
    "\n",
    "                if len(conv_layer.get_weights()) > 1:\n",
    "                    bias   = self.read_bytes(np.prod(conv_layer.get_weights()[1].shape))\n",
    "                    kernel = self.read_bytes(np.prod(conv_layer.get_weights()[0].shape))\n",
    "                    \n",
    "                    kernel = kernel.reshape(list(reversed(conv_layer.get_weights()[0].shape)))\n",
    "                    kernel = kernel.transpose([2,3,1,0])\n",
    "                    conv_layer.set_weights([kernel, bias])\n",
    "                else:\n",
    "                    kernel = self.read_bytes(np.prod(conv_layer.get_weights()[0].shape))\n",
    "                    kernel = kernel.reshape(list(reversed(conv_layer.get_weights()[0].shape)))\n",
    "                    kernel = kernel.transpose([2,3,1,0])\n",
    "                    conv_layer.set_weights([kernel])\n",
    "            except ValueError:\n",
    "                print(\"no convolution #\" + str(i))     \n",
    "    \n",
    "    def reset(self):\n",
    "        self.offset = 0\n",
    "\n",
    "class BoundBox:\n",
    "    def __init__(self, xmin, ymin, xmax, ymax, objness = None, classes = None):\n",
    "        self.xmin = xmin\n",
    "        self.ymin = ymin\n",
    "        self.xmax = xmax\n",
    "        self.ymax = ymax\n",
    "        self.objness = objness\n",
    "        self.classes = classes\n",
    "        self.label = -1\n",
    "        self.score = -1\n",
    "\n",
    "    def get_label(self):\n",
    "        if self.label == -1:\n",
    "            self.label = np.argmax(self.classes)\n",
    "\n",
    "        return self.label\n",
    "\n",
    "    def get_score(self):\n",
    "        if self.score == -1:\n",
    "            self.score = self.classes[self.get_label()]\n",
    "\n",
    "        return self.score\n",
    "\n",
    "def _sigmoid(x):\n",
    "    return 1. / (1. + np.exp(-x))\n",
    "\n",
    "def decode_netout(netout, anchors, obj_thresh, net_h, net_w):\n",
    "    grid_h, grid_w = netout.shape[:2]\n",
    "    nb_box = 3\n",
    "    netout = netout.reshape((grid_h, grid_w, nb_box, -1))\n",
    "    nb_class = netout.shape[-1] - 5\n",
    "    boxes = []\n",
    "    netout[..., :2]  = _sigmoid(netout[..., :2])\n",
    "    netout[..., 4:]  = _sigmoid(netout[..., 4:])\n",
    "    netout[..., 5:]  = netout[..., 4][..., np.newaxis] * netout[..., 5:]\n",
    "    netout[..., 5:] *= netout[..., 5:] > obj_thresh\n",
    "\n",
    "    for i in range(grid_h*grid_w):\n",
    "        row = i / grid_w\n",
    "        col = i % grid_w\n",
    "        for b in range(nb_box):\n",
    "            # 4th element is objectness score\n",
    "            objectness = netout[int(row)][int(col)][b][4]\n",
    "            if(objectness.all() <= obj_thresh): continue\n",
    "            # first 4 elements are x, y, w, and h\n",
    "            x, y, w, h = netout[int(row)][int(col)][b][:4]\n",
    "            x = (col + x) / grid_w # center position, unit: image width\n",
    "            y = (row + y) / grid_h # center position, unit: image height\n",
    "            w = anchors[2 * b + 0] * np.exp(w) / net_w # unit: image width\n",
    "            h = anchors[2 * b + 1] * np.exp(h) / net_h # unit: image height\n",
    "            # last elements are class probabilities\n",
    "            classes = netout[int(row)][col][b][5:]\n",
    "            box = BoundBox(x-w/2, y-h/2, x+w/2, y+h/2, objectness, classes)\n",
    "            boxes.append(box)\n",
    "    return boxes\n",
    "\n",
    "def correct_yolo_boxes(boxes, image_h, image_w, net_h, net_w):\n",
    "    new_w, new_h = net_w, net_h\n",
    "    for i in range(len(boxes)):\n",
    "        x_offset, x_scale = (net_w - new_w)/2./net_w, float(new_w)/net_w\n",
    "        y_offset, y_scale = (net_h - new_h)/2./net_h, float(new_h)/net_h\n",
    "        boxes[i].xmin = int((boxes[i].xmin - x_offset) / x_scale * image_w)\n",
    "        boxes[i].xmax = int((boxes[i].xmax - x_offset) / x_scale * image_w)\n",
    "        boxes[i].ymin = int((boxes[i].ymin - y_offset) / y_scale * image_h)\n",
    "        boxes[i].ymax = int((boxes[i].ymax - y_offset) / y_scale * image_h)\n",
    "\n",
    "def _interval_overlap(interval_a, interval_b):\n",
    "    x1, x2 = interval_a\n",
    "    x3, x4 = interval_b\n",
    "    if x3 < x1:\n",
    "        if x4 < x1:\n",
    "            return 0\n",
    "        else:\n",
    "            return min(x2,x4) - x1\n",
    "    else:\n",
    "        if x2 < x3:\n",
    "             return 0\n",
    "        else:\n",
    "            return min(x2,x4) - x3\n",
    "\n",
    "def bbox_iou(box1, box2):\n",
    "    intersect_w = _interval_overlap([box1.xmin, box1.xmax], [box2.xmin, box2.xmax])\n",
    "    intersect_h = _interval_overlap([box1.ymin, box1.ymax], [box2.ymin, box2.ymax])\n",
    "    intersect = intersect_w * intersect_h\n",
    "    w1, h1 = box1.xmax-box1.xmin, box1.ymax-box1.ymin\n",
    "    w2, h2 = box2.xmax-box2.xmin, box2.ymax-box2.ymin\n",
    "    union = w1*h1 + w2*h2 - intersect\n",
    "    return float(intersect) / union\n",
    "\n",
    "def do_nms(boxes, nms_thresh):\n",
    "    if len(boxes) > 0:\n",
    "        nb_class = len(boxes[0].classes)\n",
    "    else:\n",
    "        return\n",
    "    for c in range(nb_class):\n",
    "        sorted_indices = np.argsort([-box.classes[c] for box in boxes])\n",
    "        for i in range(len(sorted_indices)):\n",
    "            index_i = sorted_indices[i]\n",
    "            if boxes[index_i].classes[c] == 0: continue\n",
    "            for j in range(i+1, len(sorted_indices)):\n",
    "                index_j = sorted_indices[j]\n",
    "                if bbox_iou(boxes[index_i], boxes[index_j]) >= nms_thresh:\n",
    "                    boxes[index_j].classes[c] = 0\n",
    "\n",
    "# load and prepare an image\n",
    "def load_image(filename, shape):\n",
    "    # load the image with the required size\n",
    "    image = load_img(filename, target_size=shape)\n",
    "    # convert to numpy array\n",
    "    image = img_to_array(image)\n",
    "    # scale pixel values to [0, 1]\n",
    "    image = image.astype('float32')\n",
    "    image /= 255.0\n",
    "    # add a dimension so that we have one sample\n",
    "    image = expand_dims(image, 0)\n",
    "    return image\n",
    "\n",
    "# get all of the results above a threshold\n",
    "def get_boxes(boxes, labels, thresh):\n",
    "    v_boxes, v_labels, v_scores = list(), list(), list()\n",
    "    # enumerate all boxes\n",
    "    for box in boxes:\n",
    "        # enumerate all possible labels\n",
    "        for i in range(len(labels)):\n",
    "            # check if the threshold for this label is high enough\n",
    "            if box.classes[i] > thresh:\n",
    "                v_boxes.append(box)\n",
    "                v_labels.append(labels[i])\n",
    "                v_scores.append(box.classes[i]*100)\n",
    "                # don't break, many labels may trigger for one box\n",
    "    return v_boxes, v_labels, v_scores\n",
    "\n",
    "# draw all results\n",
    "def draw_boxes(filename, v_boxes, v_labels, v_scores):\n",
    "    # load the image\n",
    "    data = plt.imread(filename)\n",
    "    print(data.shape)\n",
    "    # plot the image\n",
    "    plt.imshow(data)\n",
    "    # get the context for drawing boxes\n",
    "    ax = plt.gca()\n",
    "    # plot each box\n",
    "    for i in range(len(v_boxes)):\n",
    "        box = v_boxes[i]\n",
    "        # get coordinates\n",
    "        y1, x1, y2, x2 = box.ymin, box.xmin, box.ymax, box.xmax\n",
    "        # calculate width and height of the box\n",
    "        width, height = x2 - x1, y2 - y1\n",
    "        # create the shape\n",
    "        rect = Rectangle((x1, y1), width, height, fill=False, color='white')\n",
    "        # draw the box\n",
    "        ax.add_patch(rect)\n",
    "        # draw text and score in top left corner\n",
    "        label = \"%s (%.3f)\" % (v_labels[i], v_scores[i])\n",
    "        plt.text(x1, y1, label, color='white')\n",
    "    # show the plot\n",
    "    plt.show()"
   ]
  },
  {
   "cell_type": "code",
   "execution_count": 98,
   "metadata": {},
   "outputs": [
    {
     "name": "stdout",
     "output_type": "stream",
     "text": [
      "(None, None, None, 3)\n",
      "loading weights of convolution #0\n",
      "loading weights of convolution #1\n",
      "loading weights of convolution #2\n",
      "loading weights of convolution #3\n",
      "no convolution #4\n",
      "loading weights of convolution #5\n",
      "loading weights of convolution #6\n",
      "loading weights of convolution #7\n",
      "no convolution #8\n",
      "loading weights of convolution #9\n",
      "loading weights of convolution #10\n",
      "no convolution #11\n",
      "loading weights of convolution #12\n",
      "loading weights of convolution #13\n",
      "loading weights of convolution #14\n",
      "no convolution #15\n",
      "loading weights of convolution #16\n",
      "loading weights of convolution #17\n",
      "no convolution #18\n",
      "loading weights of convolution #19\n",
      "loading weights of convolution #20\n",
      "no convolution #21\n",
      "loading weights of convolution #22\n",
      "loading weights of convolution #23\n",
      "no convolution #24\n",
      "loading weights of convolution #25\n",
      "loading weights of convolution #26\n",
      "no convolution #27\n",
      "loading weights of convolution #28\n",
      "loading weights of convolution #29\n",
      "no convolution #30\n",
      "loading weights of convolution #31\n",
      "loading weights of convolution #32\n",
      "no convolution #33\n",
      "loading weights of convolution #34\n",
      "loading weights of convolution #35\n",
      "no convolution #36\n",
      "loading weights of convolution #37\n",
      "loading weights of convolution #38\n",
      "loading weights of convolution #39\n",
      "no convolution #40\n",
      "loading weights of convolution #41\n",
      "loading weights of convolution #42\n",
      "no convolution #43\n",
      "loading weights of convolution #44\n",
      "loading weights of convolution #45\n",
      "no convolution #46\n",
      "loading weights of convolution #47\n",
      "loading weights of convolution #48\n",
      "no convolution #49\n",
      "loading weights of convolution #50\n",
      "loading weights of convolution #51\n",
      "no convolution #52\n",
      "loading weights of convolution #53\n",
      "loading weights of convolution #54\n",
      "no convolution #55\n",
      "loading weights of convolution #56\n",
      "loading weights of convolution #57\n",
      "no convolution #58\n",
      "loading weights of convolution #59\n",
      "loading weights of convolution #60\n",
      "no convolution #61\n",
      "loading weights of convolution #62\n",
      "loading weights of convolution #63\n",
      "loading weights of convolution #64\n",
      "no convolution #65\n",
      "loading weights of convolution #66\n",
      "loading weights of convolution #67\n",
      "no convolution #68\n",
      "loading weights of convolution #69\n",
      "loading weights of convolution #70\n",
      "no convolution #71\n",
      "loading weights of convolution #72\n",
      "loading weights of convolution #73\n",
      "no convolution #74\n",
      "loading weights of convolution #75\n",
      "loading weights of convolution #76\n",
      "loading weights of convolution #77\n",
      "loading weights of convolution #78\n",
      "loading weights of convolution #79\n",
      "loading weights of convolution #80\n",
      "loading weights of convolution #81\n",
      "no convolution #82\n",
      "no convolution #83\n",
      "loading weights of convolution #84\n",
      "no convolution #85\n",
      "no convolution #86\n",
      "loading weights of convolution #87\n",
      "loading weights of convolution #88\n",
      "loading weights of convolution #89\n",
      "loading weights of convolution #90\n",
      "loading weights of convolution #91\n",
      "loading weights of convolution #92\n",
      "loading weights of convolution #93\n",
      "no convolution #94\n",
      "no convolution #95\n",
      "loading weights of convolution #96\n",
      "no convolution #97\n",
      "no convolution #98\n",
      "loading weights of convolution #99\n",
      "loading weights of convolution #100\n",
      "loading weights of convolution #101\n",
      "loading weights of convolution #102\n",
      "loading weights of convolution #103\n",
      "loading weights of convolution #104\n",
      "loading weights of convolution #105\n"
     ]
    }
   ],
   "source": [
    "model = yoloV3Model()\n",
    "\n",
    "weigths = WeightReader('./Yolo/yolov3.weights')\n",
    "weigths.load_weights(model)\n",
    "\n",
    "model.save('model.h5')"
   ]
  },
  {
   "cell_type": "code",
   "execution_count": 251,
   "metadata": {},
   "outputs": [],
   "source": [
    "model = load_model('model.h5')"
   ]
  },
  {
   "cell_type": "code",
   "execution_count": 252,
   "metadata": {},
   "outputs": [],
   "source": [
    "filepath = \"./zebra.jpg\""
   ]
  },
  {
   "cell_type": "code",
   "execution_count": 253,
   "metadata": {},
   "outputs": [
    {
     "name": "stdout",
     "output_type": "stream",
     "text": [
      "Shape of input Image :  (1, 416, 416, 3)\n",
      "Shape of original Image :  (483, 800, 3)\n"
     ]
    }
   ],
   "source": [
    "img = load_image(filepath,(416,416))\n",
    "orig_image = load_img(filepath)\n",
    "W , H = img.shape[1:3]\n",
    "W_orig, H_orig = orig_image.size\n",
    "print(\"Shape of input Image : \",img.shape)\n",
    "print(\"Shape of original Image : \",orig_img.shape)"
   ]
  },
  {
   "cell_type": "code",
   "execution_count": 254,
   "metadata": {},
   "outputs": [
    {
     "name": "stdout",
     "output_type": "stream",
     "text": [
      "800 483\n"
     ]
    }
   ],
   "source": [
    "print(W_orig,H_orig)"
   ]
  },
  {
   "cell_type": "code",
   "execution_count": 255,
   "metadata": {},
   "outputs": [
    {
     "name": "stdout",
     "output_type": "stream",
     "text": [
      "[(1, 13, 13, 255), (1, 26, 26, 255), (1, 52, 52, 255)]\n"
     ]
    }
   ],
   "source": [
    "y_prediction = model.predict(img)\n",
    "print([x.shape for x in y_prediction])"
   ]
  },
  {
   "cell_type": "code",
   "execution_count": 256,
   "metadata": {},
   "outputs": [],
   "source": [
    "# define the anchors\n",
    "anchors = [[116,90, 156,198, 373,326], [30,61, 62,45, 59,119], [10,13, 16,30, 33,23]]\n",
    "class_threshold = 0.6\n",
    "boxes = list()\n",
    "for i in range(len(y_prediction)):\n",
    "    # decode the output of the network\n",
    "    boxes += decode_netout(y_prediction[i][0], anchors[i], class_threshold, H, W)\n",
    "# correct the sizes of the bounding boxes for the shape of the image\n",
    "correct_yolo_boxes(boxes, H_orig, W_orig, H, W)\n",
    "# suppress non-maximal boxes\n",
    "do_nms(boxes, 0.5)"
   ]
  },
  {
   "cell_type": "code",
   "execution_count": 257,
   "metadata": {},
   "outputs": [],
   "source": [
    "#The list of class labels in the order used during training\n",
    "labels = [\"person\", \"bicycle\", \"car\", \"motorbike\", \"aeroplane\", \"bus\", \"train\", \"truck\",\n",
    "    \"boat\", \"traffic light\", \"fire hydrant\", \"stop sign\", \"parking meter\", \"bench\",\n",
    "    \"bird\", \"cat\", \"dog\", \"horse\", \"sheep\", \"cow\", \"elephant\", \"bear\", \"zebra\", \"giraffe\",\n",
    "    \"backpack\", \"umbrella\", \"handbag\", \"tie\", \"suitcase\", \"frisbee\", \"skis\", \"snowboard\",\n",
    "    \"sports ball\", \"kite\", \"baseball bat\", \"baseball glove\", \"skateboard\", \"surfboard\",\n",
    "    \"tennis racket\", \"bottle\", \"wine glass\", \"cup\", \"fork\", \"knife\", \"spoon\", \"bowl\", \"banana\",\n",
    "    \"apple\", \"sandwich\", \"orange\", \"broccoli\", \"carrot\", \"hot dog\", \"pizza\", \"donut\", \"cake\",\n",
    "    \"chair\", \"sofa\", \"pottedplant\", \"bed\", \"diningtable\", \"toilet\", \"tvmonitor\", \"laptop\", \"mouse\",\n",
    "    \"remote\", \"keyboard\", \"cell phone\", \"microwave\", \"oven\", \"toaster\", \"sink\", \"refrigerator\",\n",
    "    \"book\", \"clock\", \"vase\", \"scissors\", \"teddy bear\", \"hair drier\", \"toothbrush\"]\n",
    "\n",
    "# get the details of the detected objects\n",
    "boxes_, labels_, scores_ = get_boxes(boxes, labels, class_threshold)"
   ]
  },
  {
   "cell_type": "code",
   "execution_count": 258,
   "metadata": {},
   "outputs": [
    {
     "name": "stdout",
     "output_type": "stream",
     "text": [
      "zebra 96.40049934387207\n",
      "zebra 99.84570741653442\n",
      "zebra 97.51414060592651\n"
     ]
    }
   ],
   "source": [
    "for i in range(len(labels_)):\n",
    "    print(labels_[i],scores_[i])"
   ]
  },
  {
   "cell_type": "code",
   "execution_count": 259,
   "metadata": {},
   "outputs": [
    {
     "name": "stdout",
     "output_type": "stream",
     "text": [
      "(483, 800, 3)\n"
     ]
    },
    {
     "data": {
      "image/png": "[encoded data removed]",
      "text/plain": [
       "<Figure size 432x288 with 1 Axes>"
      ]
     },
     "metadata": {
      "needs_background": "light"
     },
     "output_type": "display_data"
    }
   ],
   "source": [
    "draw_boxes(\"./zebra.jpg\", boxes_, labels_, scores_)"
   ]
  },
  {
   "cell_type": "code",
   "execution_count": null,
   "metadata": {},
   "outputs": [],
   "source": []
  },
  {
   "cell_type": "code",
   "execution_count": null,
   "metadata": {},
   "outputs": [],
   "source": []
  },
  {
   "cell_type": "code",
   "execution_count": null,
   "metadata": {},
   "outputs": [],
   "source": []
  },
  {
   "cell_type": "code",
   "execution_count": null,
   "metadata": {},
   "outputs": [],
   "source": []
  },
  {
   "cell_type": "code",
   "execution_count": null,
   "metadata": {},
   "outputs": [],
   "source": []
  },
  {
   "cell_type": "code",
   "execution_count": null,
   "metadata": {},
   "outputs": [],
   "source": []
  },
  {
   "cell_type": "code",
   "execution_count": null,
   "metadata": {},
   "outputs": [],
   "source": []
  },
  {
   "cell_type": "code",
   "execution_count": null,
   "metadata": {},
   "outputs": [],
   "source": []
  },
  {
   "cell_type": "code",
   "execution_count": null,
   "metadata": {},
   "outputs": [],
   "source": []
  },
  {
   "cell_type": "code",
   "execution_count": null,
   "metadata": {},
   "outputs": [],
   "source": []
  },
  {
   "cell_type": "code",
   "execution_count": null,
   "metadata": {},
   "outputs": [],
   "source": []
  },
  {
   "cell_type": "code",
   "execution_count": null,
   "metadata": {},
   "outputs": [],
   "source": []
  },
  {
   "cell_type": "code",
   "execution_count": null,
   "metadata": {},
   "outputs": [],
   "source": []
  },
  {
   "cell_type": "code",
   "execution_count": null,
   "metadata": {},
   "outputs": [],
   "source": []
  },
  {
   "cell_type": "code",
   "execution_count": null,
   "metadata": {},
   "outputs": [],
   "source": []
  },
  {
   "cell_type": "code",
   "execution_count": null,
   "metadata": {},
   "outputs": [],
   "source": []
  },
  {
   "cell_type": "code",
   "execution_count": null,
   "metadata": {},
   "outputs": [],
   "source": []
  },
  {
   "cell_type": "code",
   "execution_count": null,
   "metadata": {},
   "outputs": [],
   "source": []
  },
  {
   "cell_type": "code",
   "execution_count": null,
   "metadata": {},
   "outputs": [],
   "source": []
  }
 ],
 "metadata": {
  "kernelspec": {
   "display_name": "Python 3",
   "language": "python",
   "name": "python3"
  },
  "language_info": {
   "codemirror_mode": {
    "name": "ipython",
    "version": 3
   },
   "file_extension": ".py",
   "mimetype": "text/x-python",
   "name": "python",
   "nbconvert_exporter": "python",
   "pygments_lexer": "ipython3",
   "version": "3.7.5"
  }
 },
 "nbformat": 4,
 "nbformat_minor": 4
}
